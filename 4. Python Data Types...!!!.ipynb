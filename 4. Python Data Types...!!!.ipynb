{
 "cells": [
  {
   "cell_type": "markdown",
   "id": "01bdd183",
   "metadata": {},
   "source": [
    "# Python Data Types"
   ]
  },
  {
   "cell_type": "markdown",
   "id": "8ef738fc",
   "metadata": {},
   "source": [
    "In this segment, you will learn about different data types we can use in Python with the help of examples.\n",
    "\n",
    "In computer programming, data types specify the type of data that can be stored inside a variable. For example,"
   ]
  },
  {
   "cell_type": "code",
   "execution_count": 2,
   "id": "f925f4f1",
   "metadata": {},
   "outputs": [],
   "source": [
    "num = 24"
   ]
  },
  {
   "cell_type": "markdown",
   "id": "1bce4a19",
   "metadata": {},
   "source": [
    "Here, 24 (an integer) is assigned to the num variable. So the data type of num is of the int class."
   ]
  },
  {
   "cell_type": "raw",
   "id": "4bf60727",
   "metadata": {},
   "source": [
    "Python Data Types\n",
    "\n",
    "Data Types\t           Classes\t                   Description\n",
    "\n",
    "Numeric\t               int, float, complex\t       holds numeric values\n",
    "\n",
    "String\t               str\t                       holds sequence of characters\n",
    "\n",
    "Sequence\t           list, tuple, range\t       holds collection of items\n",
    "\n",
    "Mapping\t               dict\t                       holds data in key-value pair form\n",
    "\n",
    "Boolean\t               bool\t                       holds either True or False\n",
    "\n",
    "Set\t                   set, frozeenset\t           hold collection of unique items"
   ]
  },
  {
   "cell_type": "markdown",
   "id": "d94f6461",
   "metadata": {},
   "source": [
    "Since everything is an object in Python programming, data types are actually classes and variables are instances(object) \n",
    "of these classes."
   ]
  },
  {
   "cell_type": "markdown",
   "id": "f7ed5ec5",
   "metadata": {},
   "source": [
    "# Python Numeric Data type\n",
    "\n",
    "In Python, numeric data type is used to hold numeric values.\n",
    "\n",
    "Integers, floating-point numbers and complex numbers fall under Python numbers category. \n",
    "They are defined as int, float and complex classes in Python.\n",
    "\n",
    "int - holds signed integers of non-limited length.\n",
    "\n",
    "float - holds floating decimal points and it's accurate up to 15 decimal places.\n",
    "\n",
    "complex - holds complex numbers.\n",
    "\n",
    "We can use the type() function to know which class a variable or a value belongs to.\n",
    "\n",
    "Let's see an example,"
   ]
  },
  {
   "cell_type": "code",
   "execution_count": 3,
   "id": "5d9d33a7",
   "metadata": {},
   "outputs": [
    {
     "name": "stdout",
     "output_type": "stream",
     "text": [
      "5 is of type <class 'int'>\n",
      "2.0 is of type <class 'float'>\n",
      "(1+2j) is of type <class 'complex'>\n"
     ]
    }
   ],
   "source": [
    "num1 = 5\n",
    "print(num1, 'is of type', type(num1))\n",
    "\n",
    "num2 = 2.0\n",
    "print(num2, 'is of type', type(num2))\n",
    "\n",
    "num3 = 1+2j\n",
    "print(num3, 'is of type', type(num3))"
   ]
  },
  {
   "cell_type": "markdown",
   "id": "ac9b07c9",
   "metadata": {},
   "source": [
    "In the above example, we have created three variables named num1, num2 and num3 with values 5, 5.0, and 1+2j respectively.\n",
    "\n",
    "We have also used the type() function to know which class a certain variable belongs to.\n",
    "\n",
    "Since,\n",
    "\n",
    "5 is an integer value, type() returns int as the class of num1 i.e <class 'int'>\n",
    "\n",
    "2.0 is a floating value, type() returns float as the class of num2 i.e <class 'float'>\n",
    "\n",
    "1 + 2j is a complex number, type() returns complex as the class of num3 i.e <class 'complex'>\n"
   ]
  },
  {
   "cell_type": "markdown",
   "id": "1a58bbc7",
   "metadata": {},
   "source": [
    "# Python List Data Type\n",
    "\n",
    "List is an ordered collection of similar or different types of items separated by commas and enclosed within brackets [ ]. \n",
    "\n",
    "For example,"
   ]
  },
  {
   "cell_type": "code",
   "execution_count": 4,
   "id": "61e70eb5",
   "metadata": {},
   "outputs": [],
   "source": [
    "languages = [\"Swift\", \"Java\", \"Python\"]"
   ]
  },
  {
   "cell_type": "markdown",
   "id": "00958f20",
   "metadata": {},
   "source": [
    "Here, we have created a list named languages with 3 string values inside it.\n",
    "\n",
    "# Access List Items\n",
    "\n",
    "To access items from a list, we use the index number (0, 1, 2 ...). For example,"
   ]
  },
  {
   "cell_type": "code",
   "execution_count": 5,
   "id": "f7bb77b2",
   "metadata": {},
   "outputs": [
    {
     "name": "stdout",
     "output_type": "stream",
     "text": [
      "Swift\n",
      "Python\n"
     ]
    }
   ],
   "source": [
    "languages = [\"Swift\", \"Java\", \"Python\"]\n",
    "\n",
    "# access element at index 0\n",
    "print(languages[0])   # Swift\n",
    "\n",
    "# access element at index 2\n",
    "print(languages[2])   # Python"
   ]
  },
  {
   "cell_type": "markdown",
   "id": "fe3169f2",
   "metadata": {},
   "source": [
    "In the above example, we have used the index values to access items from the languages list.\n",
    "\n",
    "languages[0] - access first item from languages i.e. Swift\n",
    "\n",
    "languages[2] - access third item from languages i.e. Python"
   ]
  },
  {
   "cell_type": "markdown",
   "id": "c9d0692b",
   "metadata": {},
   "source": [
    "# Python Tuple Data Type\n",
    "\n",
    "Tuple is an ordered sequence of items same as a list. The only difference is that tuples are immutable. \n",
    "Tuples once created cannot be modified.\n",
    "\n",
    "In Python, we use the parentheses () to store items of a tuple. For example,"
   ]
  },
  {
   "cell_type": "code",
   "execution_count": 6,
   "id": "fa2e9700",
   "metadata": {},
   "outputs": [],
   "source": [
    "product = ('Xbox', 499.99)"
   ]
  },
  {
   "cell_type": "markdown",
   "id": "095353cc",
   "metadata": {},
   "source": [
    "Here, product is a tuple with a string value Xbox and integer value 499.99.\n",
    "\n",
    "# Access Tuple Items\n",
    "\n",
    "Similar to lists, we use the index number to access tuple items in Python . For example,"
   ]
  },
  {
   "cell_type": "code",
   "execution_count": 7,
   "id": "542d9b15",
   "metadata": {},
   "outputs": [
    {
     "name": "stdout",
     "output_type": "stream",
     "text": [
      "Microsoft\n",
      "Xbox\n"
     ]
    }
   ],
   "source": [
    "# create a tuple \n",
    "product = ('Microsoft', 'Xbox', 499.99)\n",
    "\n",
    "# access element at index 0\n",
    "print(product[0])   # Microsoft\n",
    "\n",
    "# access element at index 1\n",
    "print(product[1])   # Xbox"
   ]
  },
  {
   "cell_type": "markdown",
   "id": "fe3a597a",
   "metadata": {},
   "source": [
    "# Python String Data Type\n",
    "\n",
    "String is a sequence of characters represented by either single or double quotes. For example,"
   ]
  },
  {
   "cell_type": "code",
   "execution_count": 8,
   "id": "5103ea05",
   "metadata": {},
   "outputs": [
    {
     "name": "stdout",
     "output_type": "stream",
     "text": [
      "Python\n",
      "Python for beginners\n"
     ]
    }
   ],
   "source": [
    "name = 'Python'\n",
    "print(name)  \n",
    "\n",
    "message = 'Python for beginners'\n",
    "print(message)"
   ]
  },
  {
   "cell_type": "markdown",
   "id": "600c78dc",
   "metadata": {},
   "source": [
    "In the above example, we have created string-type variables: name and message with \n",
    "values 'Python' and 'Python for beginners' respectively."
   ]
  },
  {
   "cell_type": "markdown",
   "id": "fc7990c8",
   "metadata": {},
   "source": [
    "# Python Set Data Type\n",
    "\n",
    "Set is an unordered collection of unique items. Set is defined by values separated by commas inside braces { }. \n",
    "\n",
    "For example,"
   ]
  },
  {
   "cell_type": "code",
   "execution_count": 9,
   "id": "fbe3424e",
   "metadata": {},
   "outputs": [
    {
     "name": "stdout",
     "output_type": "stream",
     "text": [
      "{112, 114, 115, 116, 118}\n",
      "<class 'set'>\n"
     ]
    }
   ],
   "source": [
    "# create a set named student_id\n",
    "student_id = {112, 114, 116, 118, 115}\n",
    "\n",
    "# display student_id elements\n",
    "print(student_id)\n",
    "\n",
    "# display type of student_id\n",
    "print(type(student_id))"
   ]
  },
  {
   "cell_type": "markdown",
   "id": "2b349578",
   "metadata": {},
   "source": [
    "Here, we have created a set named student_info with 5 integer values.\n",
    "\n",
    "Since sets are unordered collections, indexing has no meaning. Hence, the slicing operator [] does not work."
   ]
  },
  {
   "cell_type": "markdown",
   "id": "a6baca5e",
   "metadata": {},
   "source": [
    "# Python Dictionary Data Type\n",
    "\n",
    "Python dictionary is an ordered collection of items. It stores elements in key/value pairs.\n",
    "\n",
    "Here, keys are unique identifiers that are associated with each value.\n",
    "\n",
    "Let's see an example,"
   ]
  },
  {
   "cell_type": "code",
   "execution_count": 10,
   "id": "0f76b31b",
   "metadata": {},
   "outputs": [
    {
     "name": "stdout",
     "output_type": "stream",
     "text": [
      "{'Nepal': 'Kathmandu', 'Italy': 'Rome', 'England': 'London'}\n"
     ]
    }
   ],
   "source": [
    "# create a dictionary named capital_city\n",
    "capital_city = {'Nepal': 'Kathmandu', 'Italy': 'Rome', 'England': 'London'}\n",
    "\n",
    "print(capital_city)"
   ]
  },
  {
   "cell_type": "markdown",
   "id": "481d09a4",
   "metadata": {},
   "source": [
    "In the above example, we have created a dictionary named capital_city. Here,\n",
    "\n",
    "Keys are 'Nepal', 'Italy', 'England'\n",
    "\n",
    "Values are 'Kathmandu', 'Rome', 'London'\n",
    "\n",
    "# Access Dictionary Values Using Keys\n",
    "\n",
    "We use keys to retrieve the respective value. But not the other way around. For example,"
   ]
  },
  {
   "cell_type": "code",
   "execution_count": 11,
   "id": "35dab5a8",
   "metadata": {},
   "outputs": [
    {
     "name": "stdout",
     "output_type": "stream",
     "text": [
      "Kathmandu\n"
     ]
    },
    {
     "ename": "KeyError",
     "evalue": "'Kathmandu'",
     "output_type": "error",
     "traceback": [
      "\u001b[1;31m---------------------------------------------------------------------------\u001b[0m",
      "\u001b[1;31mKeyError\u001b[0m                                  Traceback (most recent call last)",
      "\u001b[1;32m~\\AppData\\Local\\Temp/ipykernel_1652/4149213899.py\u001b[0m in \u001b[0;36m<module>\u001b[1;34m\u001b[0m\n\u001b[0;32m      4\u001b[0m \u001b[0mprint\u001b[0m\u001b[1;33m(\u001b[0m\u001b[0mcapital_city\u001b[0m\u001b[1;33m[\u001b[0m\u001b[1;34m'Nepal'\u001b[0m\u001b[1;33m]\u001b[0m\u001b[1;33m)\u001b[0m  \u001b[1;31m# prints Kathmandu\u001b[0m\u001b[1;33m\u001b[0m\u001b[1;33m\u001b[0m\u001b[0m\n\u001b[0;32m      5\u001b[0m \u001b[1;33m\u001b[0m\u001b[0m\n\u001b[1;32m----> 6\u001b[1;33m \u001b[0mprint\u001b[0m\u001b[1;33m(\u001b[0m\u001b[0mcapital_city\u001b[0m\u001b[1;33m[\u001b[0m\u001b[1;34m'Kathmandu'\u001b[0m\u001b[1;33m]\u001b[0m\u001b[1;33m)\u001b[0m  \u001b[1;31m# throws error message\u001b[0m\u001b[1;33m\u001b[0m\u001b[1;33m\u001b[0m\u001b[0m\n\u001b[0m",
      "\u001b[1;31mKeyError\u001b[0m: 'Kathmandu'"
     ]
    }
   ],
   "source": [
    "# create a dictionary named capital_city\n",
    "capital_city = {'Nepal': 'Kathmandu', 'Italy': 'Rome', 'England': 'London'}\n",
    "\n",
    "print(capital_city['Nepal'])  # prints Kathmandu\n",
    "\n",
    "print(capital_city['Kathmandu'])  # throws error message "
   ]
  },
  {
   "cell_type": "markdown",
   "id": "98441d7b",
   "metadata": {},
   "source": [
    "Here, we have accessed values using keys from the capital_city dictionary.\n",
    "\n",
    "Since 'Nepal' is key, capital_city['Nepal'] accesses its respective value i.e. Kathmandu\n",
    "\n",
    "However, 'Kathmandu' is the value for the 'Nepal' key, so capital_city['Kathmandu'] throws an error message."
   ]
  },
  {
   "cell_type": "code",
   "execution_count": null,
   "id": "f700eb45",
   "metadata": {},
   "outputs": [],
   "source": []
  }
 ],
 "metadata": {
  "kernelspec": {
   "display_name": "Python 3 (ipykernel)",
   "language": "python",
   "name": "python3"
  },
  "language_info": {
   "codemirror_mode": {
    "name": "ipython",
    "version": 3
   },
   "file_extension": ".py",
   "mimetype": "text/x-python",
   "name": "python",
   "nbconvert_exporter": "python",
   "pygments_lexer": "ipython3",
   "version": "3.9.7"
  }
 },
 "nbformat": 4,
 "nbformat_minor": 5
}
